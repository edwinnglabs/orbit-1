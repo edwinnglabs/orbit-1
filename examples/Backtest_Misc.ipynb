{
 "cells": [
  {
   "cell_type": "markdown",
   "metadata": {},
   "source": [
    "# Backtest Misc\n",
    "\n",
    "Examples of backtesting for \n",
    "* multiple series \n",
    "* multiple models"
   ]
  },
  {
   "cell_type": "code",
   "execution_count": 1,
   "metadata": {
    "ExecuteTime": {
     "end_time": "2020-05-15T09:34:40.863630Z",
     "start_time": "2020-05-15T09:34:38.688018Z"
    }
   },
   "outputs": [],
   "source": [
    "import pandas as pd\n",
    "import numpy as np\n",
    "import matplotlib.pyplot as plt\n",
    "%matplotlib inline\n",
    "plt.style.use('ggplot')\n",
    "\n",
    "from orbit.lgt import LGT\n",
    "from orbit.dlt import DLT\n",
    "from orbit.backtest.functions import run_multi_series_backtest"
   ]
  },
  {
   "cell_type": "markdown",
   "metadata": {},
   "source": [
    "## Load data"
   ]
  },
  {
   "cell_type": "code",
   "execution_count": 2,
   "metadata": {
    "ExecuteTime": {
     "end_time": "2020-05-15T09:34:41.221011Z",
     "start_time": "2020-05-15T09:34:40.865141Z"
    }
   },
   "outputs": [],
   "source": [
    "data_path = \"../examples/data/m4_weekly.csv\"\n",
    "data = pd.read_csv(data_path, parse_dates=['date'])"
   ]
  },
  {
   "cell_type": "code",
   "execution_count": 3,
   "metadata": {},
   "outputs": [
    {
     "name": "stdout",
     "output_type": "stream",
     "text": [
      "Total keys: 3\n"
     ]
    },
    {
     "data": {
      "text/html": [
       "<div>\n",
       "<style scoped>\n",
       "    .dataframe tbody tr th:only-of-type {\n",
       "        vertical-align: middle;\n",
       "    }\n",
       "\n",
       "    .dataframe tbody tr th {\n",
       "        vertical-align: top;\n",
       "    }\n",
       "\n",
       "    .dataframe thead th {\n",
       "        text-align: right;\n",
       "    }\n",
       "</style>\n",
       "<table border=\"1\" class=\"dataframe\">\n",
       "  <thead>\n",
       "    <tr style=\"text-align: right;\">\n",
       "      <th></th>\n",
       "      <th>key</th>\n",
       "      <th>week_num</th>\n",
       "      <th>value</th>\n",
       "      <th>date</th>\n",
       "    </tr>\n",
       "  </thead>\n",
       "  <tbody>\n",
       "    <tr>\n",
       "      <th>0</th>\n",
       "      <td>W1</td>\n",
       "      <td>2</td>\n",
       "      <td>1089.20</td>\n",
       "      <td>1970-01-05</td>\n",
       "    </tr>\n",
       "    <tr>\n",
       "      <th>1</th>\n",
       "      <td>W1</td>\n",
       "      <td>3</td>\n",
       "      <td>1078.91</td>\n",
       "      <td>1970-01-12</td>\n",
       "    </tr>\n",
       "    <tr>\n",
       "      <th>2</th>\n",
       "      <td>W1</td>\n",
       "      <td>4</td>\n",
       "      <td>1079.88</td>\n",
       "      <td>1970-01-19</td>\n",
       "    </tr>\n",
       "  </tbody>\n",
       "</table>\n",
       "</div>"
      ],
      "text/plain": [
       "  key  week_num    value       date\n",
       "0  W1         2  1089.20 1970-01-05\n",
       "1  W1         3  1078.91 1970-01-12\n",
       "2  W1         4  1079.88 1970-01-19"
      ]
     },
     "execution_count": 3,
     "metadata": {},
     "output_type": "execute_result"
    }
   ],
   "source": [
    "print(\"Total keys: {}\".format(len(data['key'].unique())))\n",
    "data.head(3)"
   ]
  },
  {
   "cell_type": "markdown",
   "metadata": {},
   "source": [
    "## Settings"
   ]
  },
  {
   "cell_type": "code",
   "execution_count": 4,
   "metadata": {
    "ExecuteTime": {
     "end_time": "2020-05-15T09:34:46.969800Z",
     "start_time": "2020-05-15T09:34:46.965355Z"
    }
   },
   "outputs": [],
   "source": [
    "# data settings\n",
    "date_col = \"date\"\n",
    "response_col = \"value\"\n",
    "key_col = \"key\"\n",
    "seasonality = 52\n",
    "\n",
    "# backtest settings\n",
    "min_train_len = 120\n",
    "forecast_len = 13\n",
    "incremental_len = 5\n",
    "n_splits = 1\n",
    "window_type = \"expanding\"\n",
    "seed = 2019"
   ]
  },
  {
   "cell_type": "code",
   "execution_count": 5,
   "metadata": {
    "ExecuteTime": {
     "end_time": "2020-05-15T09:36:38.348355Z",
     "start_time": "2020-05-15T09:36:38.344088Z"
    }
   },
   "outputs": [],
   "source": [
    "lgt_map = LGT(\n",
    "    response_col=response_col,\n",
    "    date_col=date_col,\n",
    "    seasonality=seasonality,\n",
    "    seed=seed,\n",
    "    infer_method='map',\n",
    "    predict_method='map',\n",
    "    is_multiplicative=True\n",
    ")\n",
    "\n",
    "dlt_map = DLT(\n",
    "    response_col=response_col,\n",
    "    date_col=date_col,\n",
    "    seasonality=seasonality,\n",
    "    seed=seed,\n",
    "    infer_method='map',\n",
    "    predict_method='map',\n",
    "    is_multiplicative=True\n",
    ")\n"
   ]
  },
  {
   "cell_type": "code",
   "execution_count": 6,
   "metadata": {
    "ExecuteTime": {
     "end_time": "2020-05-15T09:36:41.310569Z",
     "start_time": "2020-05-15T09:36:41.307838Z"
    }
   },
   "outputs": [],
   "source": [
    "bt_models = {\n",
    "    'LGT-MAP': lgt_map,\n",
    "    'DLT-MAP': dlt_map\n",
    "}"
   ]
  },
  {
   "cell_type": "markdown",
   "metadata": {},
   "source": [
    "## Backtest Multiple Series"
   ]
  },
  {
   "cell_type": "code",
   "execution_count": 7,
   "metadata": {
    "ExecuteTime": {
     "end_time": "2020-05-15T09:35:17.441768Z",
     "start_time": "2020-05-15T09:35:11.213915Z"
    }
   },
   "outputs": [
    {
     "name": "stderr",
     "output_type": "stream",
     "text": [
      "100%|██████████| 3/3 [00:08<00:00,  2.94s/it]\n"
     ]
    }
   ],
   "source": [
    "bt_result, bt_scores = run_multi_series_backtest(\n",
    "    data=data, \n",
    "    response_col=response_col, \n",
    "    key_col=key_col, \n",
    "    date_col=date_col,\n",
    "    model=lgt_map,\n",
    "    min_train_len=min_train_len, \n",
    "    incremental_len=incremental_len, \n",
    "    forecast_len=forecast_len, \n",
    "    predicted_col='prediction', \n",
    "    n_splits=n_splits,\n",
    "    window_type = window_type\n",
    ")"
   ]
  },
  {
   "cell_type": "code",
   "execution_count": 8,
   "metadata": {
    "ExecuteTime": {
     "end_time": "2020-05-15T09:35:17.451240Z",
     "start_time": "2020-05-15T09:35:17.443990Z"
    }
   },
   "outputs": [
    {
     "data": {
      "text/html": [
       "<div>\n",
       "<style scoped>\n",
       "    .dataframe tbody tr th:only-of-type {\n",
       "        vertical-align: middle;\n",
       "    }\n",
       "\n",
       "    .dataframe tbody tr th {\n",
       "        vertical-align: top;\n",
       "    }\n",
       "\n",
       "    .dataframe thead th {\n",
       "        text-align: right;\n",
       "    }\n",
       "</style>\n",
       "<table border=\"1\" class=\"dataframe\">\n",
       "  <thead>\n",
       "    <tr style=\"text-align: right;\">\n",
       "      <th></th>\n",
       "      <th>n_splits</th>\n",
       "      <th>forecast_len</th>\n",
       "      <th>incremental_len</th>\n",
       "      <th>wmape</th>\n",
       "      <th>smape</th>\n",
       "      <th>rmsse</th>\n",
       "      <th>key</th>\n",
       "    </tr>\n",
       "  </thead>\n",
       "  <tbody>\n",
       "    <tr>\n",
       "      <th>0</th>\n",
       "      <td>1</td>\n",
       "      <td>13</td>\n",
       "      <td>5</td>\n",
       "      <td>0.021875</td>\n",
       "      <td>0.021738</td>\n",
       "      <td>4.824411</td>\n",
       "      <td>W1</td>\n",
       "    </tr>\n",
       "    <tr>\n",
       "      <th>1</th>\n",
       "      <td>1</td>\n",
       "      <td>13</td>\n",
       "      <td>5</td>\n",
       "      <td>0.016498</td>\n",
       "      <td>0.016571</td>\n",
       "      <td>2.382593</td>\n",
       "      <td>W2</td>\n",
       "    </tr>\n",
       "    <tr>\n",
       "      <th>2</th>\n",
       "      <td>1</td>\n",
       "      <td>13</td>\n",
       "      <td>5</td>\n",
       "      <td>0.008963</td>\n",
       "      <td>0.008941</td>\n",
       "      <td>1.837710</td>\n",
       "      <td>W3</td>\n",
       "    </tr>\n",
       "  </tbody>\n",
       "</table>\n",
       "</div>"
      ],
      "text/plain": [
       "   n_splits  forecast_len  incremental_len     wmape     smape     rmsse key\n",
       "0         1            13                5  0.021875  0.021738  4.824411  W1\n",
       "1         1            13                5  0.016498  0.016571  2.382593  W2\n",
       "2         1            13                5  0.008963  0.008941  1.837710  W3"
      ]
     },
     "execution_count": 8,
     "metadata": {},
     "output_type": "execute_result"
    }
   ],
   "source": [
    "bt_scores.head()"
   ]
  },
  {
   "cell_type": "markdown",
   "metadata": {},
   "source": [
    "## Backtest Multiple Models (and Multiple Series)"
   ]
  },
  {
   "cell_type": "code",
   "execution_count": 9,
   "metadata": {
    "ExecuteTime": {
     "end_time": "2020-05-15T09:35:35.724253Z",
     "start_time": "2020-05-15T09:35:25.577981Z"
    }
   },
   "outputs": [
    {
     "name": "stderr",
     "output_type": "stream",
     "text": [
      "100%|██████████| 3/3 [00:08<00:00,  2.78s/it]\n",
      "100%|██████████| 3/3 [00:09<00:00,  3.21s/it]\n"
     ]
    }
   ],
   "source": [
    "bt_result_list = []\n",
    "bt_scores_list = []\n",
    "for mod_name, mod in bt_models.items():\n",
    "    bt_result, bt_scores = run_multi_series_backtest(\n",
    "        data=data, \n",
    "        response_col=response_col, \n",
    "        key_col=key_col, \n",
    "        date_col=date_col,\n",
    "        model=lgt_map,\n",
    "        min_train_len=min_train_len, \n",
    "        incremental_len=incremental_len, \n",
    "        forecast_len=forecast_len, \n",
    "        predicted_col='prediction', \n",
    "        n_splits=n_splits,\n",
    "        window_type = window_type\n",
    "    )\n",
    "    bt_result['model'] = mod_name\n",
    "    bt_scores['model'] = mod_name\n",
    "    bt_result_list.append(bt_result)\n",
    "    bt_scores_list.append(bt_scores)"
   ]
  },
  {
   "cell_type": "code",
   "execution_count": 10,
   "metadata": {
    "ExecuteTime": {
     "end_time": "2020-05-15T09:35:35.736480Z",
     "start_time": "2020-05-15T09:35:35.726482Z"
    }
   },
   "outputs": [],
   "source": [
    "bt_result = pd.concat(bt_result_list, axis=0)\n",
    "bt_scores = pd.concat(bt_scores_list, axis=0)"
   ]
  },
  {
   "cell_type": "code",
   "execution_count": 11,
   "metadata": {
    "ExecuteTime": {
     "end_time": "2020-05-15T09:35:35.748251Z",
     "start_time": "2020-05-15T09:35:35.738962Z"
    }
   },
   "outputs": [
    {
     "data": {
      "text/html": [
       "<div>\n",
       "<style scoped>\n",
       "    .dataframe tbody tr th:only-of-type {\n",
       "        vertical-align: middle;\n",
       "    }\n",
       "\n",
       "    .dataframe tbody tr th {\n",
       "        vertical-align: top;\n",
       "    }\n",
       "\n",
       "    .dataframe thead th {\n",
       "        text-align: right;\n",
       "    }\n",
       "</style>\n",
       "<table border=\"1\" class=\"dataframe\">\n",
       "  <thead>\n",
       "    <tr style=\"text-align: right;\">\n",
       "      <th></th>\n",
       "      <th>n_splits</th>\n",
       "      <th>forecast_len</th>\n",
       "      <th>incremental_len</th>\n",
       "      <th>wmape</th>\n",
       "      <th>smape</th>\n",
       "      <th>rmsse</th>\n",
       "      <th>key</th>\n",
       "      <th>model</th>\n",
       "    </tr>\n",
       "  </thead>\n",
       "  <tbody>\n",
       "    <tr>\n",
       "      <th>0</th>\n",
       "      <td>1</td>\n",
       "      <td>13</td>\n",
       "      <td>5</td>\n",
       "      <td>0.021875</td>\n",
       "      <td>0.021738</td>\n",
       "      <td>4.824411</td>\n",
       "      <td>W1</td>\n",
       "      <td>LGT-MAP</td>\n",
       "    </tr>\n",
       "    <tr>\n",
       "      <th>1</th>\n",
       "      <td>1</td>\n",
       "      <td>13</td>\n",
       "      <td>5</td>\n",
       "      <td>0.016498</td>\n",
       "      <td>0.016571</td>\n",
       "      <td>2.382593</td>\n",
       "      <td>W2</td>\n",
       "      <td>LGT-MAP</td>\n",
       "    </tr>\n",
       "    <tr>\n",
       "      <th>2</th>\n",
       "      <td>1</td>\n",
       "      <td>13</td>\n",
       "      <td>5</td>\n",
       "      <td>0.008963</td>\n",
       "      <td>0.008941</td>\n",
       "      <td>1.837710</td>\n",
       "      <td>W3</td>\n",
       "      <td>LGT-MAP</td>\n",
       "    </tr>\n",
       "    <tr>\n",
       "      <th>0</th>\n",
       "      <td>1</td>\n",
       "      <td>13</td>\n",
       "      <td>5</td>\n",
       "      <td>0.021875</td>\n",
       "      <td>0.021738</td>\n",
       "      <td>4.824411</td>\n",
       "      <td>W1</td>\n",
       "      <td>DLT-MAP</td>\n",
       "    </tr>\n",
       "    <tr>\n",
       "      <th>1</th>\n",
       "      <td>1</td>\n",
       "      <td>13</td>\n",
       "      <td>5</td>\n",
       "      <td>0.016498</td>\n",
       "      <td>0.016571</td>\n",
       "      <td>2.382593</td>\n",
       "      <td>W2</td>\n",
       "      <td>DLT-MAP</td>\n",
       "    </tr>\n",
       "  </tbody>\n",
       "</table>\n",
       "</div>"
      ],
      "text/plain": [
       "   n_splits  forecast_len  incremental_len     wmape     smape     rmsse key  \\\n",
       "0         1            13                5  0.021875  0.021738  4.824411  W1   \n",
       "1         1            13                5  0.016498  0.016571  2.382593  W2   \n",
       "2         1            13                5  0.008963  0.008941  1.837710  W3   \n",
       "0         1            13                5  0.021875  0.021738  4.824411  W1   \n",
       "1         1            13                5  0.016498  0.016571  2.382593  W2   \n",
       "\n",
       "     model  \n",
       "0  LGT-MAP  \n",
       "1  LGT-MAP  \n",
       "2  LGT-MAP  \n",
       "0  DLT-MAP  \n",
       "1  DLT-MAP  "
      ]
     },
     "execution_count": 11,
     "metadata": {},
     "output_type": "execute_result"
    }
   ],
   "source": [
    "bt_scores.head()"
   ]
  }
 ],
 "metadata": {
  "kernelspec": {
   "display_name": "orbit",
   "language": "python",
   "name": "orbit"
  },
  "language_info": {
   "codemirror_mode": {
    "name": "ipython",
    "version": 3
   },
   "file_extension": ".py",
   "mimetype": "text/x-python",
   "name": "python",
   "nbconvert_exporter": "python",
   "pygments_lexer": "ipython3",
   "version": "3.6.8"
  },
  "toc": {
   "base_numbering": 1,
   "nav_menu": {},
   "number_sections": true,
   "sideBar": true,
   "skip_h1_title": false,
   "title_cell": "Table of Contents",
   "title_sidebar": "Contents",
   "toc_cell": false,
   "toc_position": {
    "height": "calc(100% - 180px)",
    "left": "10px",
    "top": "150px",
    "width": "306.391px"
   },
   "toc_section_display": true,
   "toc_window_display": true
  }
 },
 "nbformat": 4,
 "nbformat_minor": 4
}
