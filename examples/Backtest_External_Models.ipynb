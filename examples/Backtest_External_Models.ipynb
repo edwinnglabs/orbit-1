{
 "cells": [
  {
   "cell_type": "markdown",
   "metadata": {},
   "source": [
    "# Backtest External Models\n",
    "\n",
    "We continue to illustrate how to use `Backtest` object to gauge performance of external models. `Backtest` is designed to work for any model objects which have a `fit` method and a `predict` method, by writing some call back functions. "
   ]
  },
  {
   "cell_type": "code",
   "execution_count": 1,
   "metadata": {
    "ExecuteTime": {
     "end_time": "2020-05-21T00:41:14.475488Z",
     "start_time": "2020-05-21T00:41:13.248605Z"
    }
   },
   "outputs": [],
   "source": [
    "import pandas as pd\n",
    "import numpy as np\n",
    "import matplotlib.pyplot as plt\n",
    "%matplotlib inline\n",
    "plt.style.use('ggplot')\n",
    "\n",
    "from orbit.backtest.backtest import TimeSeriesSplitter, Backtest"
   ]
  },
  {
   "cell_type": "markdown",
   "metadata": {},
   "source": [
    "## Load data"
   ]
  },
  {
   "cell_type": "code",
   "execution_count": 2,
   "metadata": {
    "ExecuteTime": {
     "end_time": "2020-05-21T00:41:14.508925Z",
     "start_time": "2020-05-21T00:41:14.479633Z"
    }
   },
   "outputs": [
    {
     "name": "stdout",
     "output_type": "stream",
     "text": [
      "(443, 5)\n"
     ]
    },
    {
     "data": {
      "text/html": [
       "<div>\n",
       "<style scoped>\n",
       "    .dataframe tbody tr th:only-of-type {\n",
       "        vertical-align: middle;\n",
       "    }\n",
       "\n",
       "    .dataframe tbody tr th {\n",
       "        vertical-align: top;\n",
       "    }\n",
       "\n",
       "    .dataframe thead th {\n",
       "        text-align: right;\n",
       "    }\n",
       "</style>\n",
       "<table border=\"1\" class=\"dataframe\">\n",
       "  <thead>\n",
       "    <tr style=\"text-align: right;\">\n",
       "      <th></th>\n",
       "      <th>week</th>\n",
       "      <th>claims</th>\n",
       "      <th>trend.unemploy</th>\n",
       "      <th>trend.filling</th>\n",
       "      <th>trend.job</th>\n",
       "    </tr>\n",
       "  </thead>\n",
       "  <tbody>\n",
       "    <tr>\n",
       "      <th>0</th>\n",
       "      <td>2010-01-03</td>\n",
       "      <td>651215</td>\n",
       "      <td>1.183973</td>\n",
       "      <td>0.720140</td>\n",
       "      <td>1.119669</td>\n",
       "    </tr>\n",
       "    <tr>\n",
       "      <th>1</th>\n",
       "      <td>2010-01-10</td>\n",
       "      <td>825891</td>\n",
       "      <td>1.183973</td>\n",
       "      <td>0.814896</td>\n",
       "      <td>1.178599</td>\n",
       "    </tr>\n",
       "    <tr>\n",
       "      <th>2</th>\n",
       "      <td>2010-01-17</td>\n",
       "      <td>659173</td>\n",
       "      <td>1.203382</td>\n",
       "      <td>0.739091</td>\n",
       "      <td>1.119669</td>\n",
       "    </tr>\n",
       "    <tr>\n",
       "      <th>3</th>\n",
       "      <td>2010-01-24</td>\n",
       "      <td>507651</td>\n",
       "      <td>1.164564</td>\n",
       "      <td>0.814896</td>\n",
       "      <td>1.107883</td>\n",
       "    </tr>\n",
       "    <tr>\n",
       "      <th>4</th>\n",
       "      <td>2010-01-31</td>\n",
       "      <td>538617</td>\n",
       "      <td>1.086926</td>\n",
       "      <td>0.776993</td>\n",
       "      <td>1.072525</td>\n",
       "    </tr>\n",
       "  </tbody>\n",
       "</table>\n",
       "</div>"
      ],
      "text/plain": [
       "        week  claims  trend.unemploy  trend.filling  trend.job\n",
       "0 2010-01-03  651215        1.183973       0.720140   1.119669\n",
       "1 2010-01-10  825891        1.183973       0.814896   1.178599\n",
       "2 2010-01-17  659173        1.203382       0.739091   1.119669\n",
       "3 2010-01-24  507651        1.164564       0.814896   1.107883\n",
       "4 2010-01-31  538617        1.086926       0.776993   1.072525"
      ]
     },
     "execution_count": 2,
     "metadata": {},
     "output_type": "execute_result"
    }
   ],
   "source": [
    "data_path = \"../examples/data/iclaims_example.csv\"\n",
    "raw_data = pd.read_csv(data_path, parse_dates=['week'])\n",
    "\n",
    "## log transformation\n",
    "data = raw_data.copy()\n",
    "# data[['claims', 'trend.unemploy', 'trend.filling', 'trend.job']] = \\\n",
    "#     data[['claims', 'trend.unemploy', 'trend.filling', 'trend.job']].apply(np.log, axis=1)\n",
    "\n",
    "print(data.shape)\n",
    "data.head(5)"
   ]
  },
  {
   "cell_type": "markdown",
   "metadata": {},
   "source": [
    "## Sklearn model object - Random Forest"
   ]
  },
  {
   "cell_type": "markdown",
   "metadata": {},
   "source": [
    "Declare a `TimeSeriesSplitter` and `Backtest` object."
   ]
  },
  {
   "cell_type": "code",
   "execution_count": 3,
   "metadata": {
    "ExecuteTime": {
     "end_time": "2020-05-21T00:41:14.522107Z",
     "start_time": "2020-05-21T00:41:14.514918Z"
    }
   },
   "outputs": [],
   "source": [
    "splitter = TimeSeriesSplitter(data, min_train_len=200, incremental_len=20, forecast_len=20, n_splits=3, date_col='week')"
   ]
  },
  {
   "cell_type": "code",
   "execution_count": 4,
   "metadata": {
    "ExecuteTime": {
     "end_time": "2020-05-21T00:41:14.529507Z",
     "start_time": "2020-05-21T00:41:14.524893Z"
    }
   },
   "outputs": [],
   "source": [
    "bt = Backtest(splitter=splitter)"
   ]
  },
  {
   "cell_type": "markdown",
   "metadata": {},
   "source": [
    "Next, we instantiate an sklearn model."
   ]
  },
  {
   "cell_type": "code",
   "execution_count": 5,
   "metadata": {
    "ExecuteTime": {
     "end_time": "2020-05-21T00:41:14.649714Z",
     "start_time": "2020-05-21T00:41:14.532596Z"
    }
   },
   "outputs": [],
   "source": [
    "from sklearn.ensemble import RandomForestRegressor\n",
    "\n",
    "mod = RandomForestRegressor(n_estimators = 50)"
   ]
  },
  {
   "cell_type": "markdown",
   "metadata": {},
   "source": [
    "Create callback functions for the `RandomForestRegressor` model."
   ]
  },
  {
   "cell_type": "code",
   "execution_count": 6,
   "metadata": {
    "ExecuteTime": {
     "end_time": "2020-05-21T00:41:14.659602Z",
     "start_time": "2020-05-21T00:41:14.652303Z"
    }
   },
   "outputs": [],
   "source": [
    "def fit_callback_sklearn(model, train_df, response_col, regressor_col, date_col):\n",
    "    y = train_df[response_col]\n",
    "    X = train_df[regressor_col]\n",
    "    model.fit(X, y)\n",
    "    return\n",
    "\n",
    "def predict_callback_sklearn(model, test_df, response_col, regressor_col, date_col):\n",
    "    X = test_df[regressor_col]\n",
    "    pred = model.predict(X)\n",
    "\n",
    "    return pd.DataFrame({date_col:  test_df[date_col], 'prediction': pred})\n",
    "\n",
    "# passed into fit_callback_sklearn()\n",
    "fit_predict_args = {\n",
    "    'response_col': 'claims',\n",
    "    'regressor_col': ['trend.unemploy', 'trend.filling', 'trend.job'],\n",
    "    'date_col': 'week',\n",
    "}"
   ]
  },
  {
   "cell_type": "code",
   "execution_count": 7,
   "metadata": {
    "ExecuteTime": {
     "end_time": "2020-05-21T00:41:15.077511Z",
     "start_time": "2020-05-21T00:41:14.665774Z"
    }
   },
   "outputs": [
    {
     "data": {
      "text/html": [
       "<div>\n",
       "<style scoped>\n",
       "    .dataframe tbody tr th:only-of-type {\n",
       "        vertical-align: middle;\n",
       "    }\n",
       "\n",
       "    .dataframe tbody tr th {\n",
       "        vertical-align: top;\n",
       "    }\n",
       "\n",
       "    .dataframe thead th {\n",
       "        text-align: right;\n",
       "    }\n",
       "</style>\n",
       "<table border=\"1\" class=\"dataframe\">\n",
       "  <thead>\n",
       "    <tr style=\"text-align: right;\">\n",
       "      <th></th>\n",
       "      <th>steps</th>\n",
       "      <th>week</th>\n",
       "      <th>claims</th>\n",
       "      <th>prediction</th>\n",
       "      <th>part</th>\n",
       "      <th>split_key</th>\n",
       "    </tr>\n",
       "  </thead>\n",
       "  <tbody>\n",
       "    <tr>\n",
       "      <th>0</th>\n",
       "      <td>1</td>\n",
       "      <td>2017-05-07</td>\n",
       "      <td>215040</td>\n",
       "      <td>248052.376</td>\n",
       "      <td>test</td>\n",
       "      <td>0</td>\n",
       "    </tr>\n",
       "    <tr>\n",
       "      <th>1</th>\n",
       "      <td>2</td>\n",
       "      <td>2017-05-14</td>\n",
       "      <td>206905</td>\n",
       "      <td>317408.198</td>\n",
       "      <td>test</td>\n",
       "      <td>0</td>\n",
       "    </tr>\n",
       "    <tr>\n",
       "      <th>2</th>\n",
       "      <td>3</td>\n",
       "      <td>2017-05-21</td>\n",
       "      <td>210544</td>\n",
       "      <td>414146.850</td>\n",
       "      <td>test</td>\n",
       "      <td>0</td>\n",
       "    </tr>\n",
       "    <tr>\n",
       "      <th>3</th>\n",
       "      <td>4</td>\n",
       "      <td>2017-05-28</td>\n",
       "      <td>232138</td>\n",
       "      <td>244482.900</td>\n",
       "      <td>test</td>\n",
       "      <td>0</td>\n",
       "    </tr>\n",
       "    <tr>\n",
       "      <th>4</th>\n",
       "      <td>5</td>\n",
       "      <td>2017-06-04</td>\n",
       "      <td>212696</td>\n",
       "      <td>288049.500</td>\n",
       "      <td>test</td>\n",
       "      <td>0</td>\n",
       "    </tr>\n",
       "  </tbody>\n",
       "</table>\n",
       "</div>"
      ],
      "text/plain": [
       "   steps       week  claims  prediction  part  split_key\n",
       "0      1 2017-05-07  215040  248052.376  test          0\n",
       "1      2 2017-05-14  206905  317408.198  test          0\n",
       "2      3 2017-05-21  210544  414146.850  test          0\n",
       "3      4 2017-05-28  232138  244482.900  test          0\n",
       "4      5 2017-06-04  212696  288049.500  test          0"
      ]
     },
     "execution_count": 7,
     "metadata": {},
     "output_type": "execute_result"
    }
   ],
   "source": [
    "bt.fit_score(\n",
    "    mod,\n",
    "    response_col='claims',\n",
    "    predicted_col='prediction',\n",
    "    fit_callback=fit_callback_sklearn,\n",
    "    predict_callback=predict_callback_sklearn,\n",
    "    fit_args=fit_predict_args,\n",
    "    predict_args=fit_predict_args\n",
    ")\n",
    "\n",
    "bt.get_predictions().head(5)"
   ]
  },
  {
   "cell_type": "code",
   "execution_count": 8,
   "metadata": {
    "ExecuteTime": {
     "end_time": "2020-05-21T00:41:15.093810Z",
     "start_time": "2020-05-21T00:41:15.080842Z"
    }
   },
   "outputs": [
    {
     "data": {
      "text/html": [
       "<div>\n",
       "<style scoped>\n",
       "    .dataframe tbody tr th:only-of-type {\n",
       "        vertical-align: middle;\n",
       "    }\n",
       "\n",
       "    .dataframe tbody tr th {\n",
       "        vertical-align: top;\n",
       "    }\n",
       "\n",
       "    .dataframe thead th {\n",
       "        text-align: right;\n",
       "    }\n",
       "</style>\n",
       "<table border=\"1\" class=\"dataframe\">\n",
       "  <thead>\n",
       "    <tr style=\"text-align: right;\">\n",
       "      <th></th>\n",
       "      <th>n_splits</th>\n",
       "      <th>forecast_len</th>\n",
       "      <th>incremental_len</th>\n",
       "      <th>wmape</th>\n",
       "      <th>smape</th>\n",
       "      <th>rmsse</th>\n",
       "    </tr>\n",
       "  </thead>\n",
       "  <tbody>\n",
       "    <tr>\n",
       "      <th>0</th>\n",
       "      <td>3</td>\n",
       "      <td>20</td>\n",
       "      <td>20</td>\n",
       "      <td>0.266317</td>\n",
       "      <td>0.218235</td>\n",
       "      <td>1.811515</td>\n",
       "    </tr>\n",
       "  </tbody>\n",
       "</table>\n",
       "</div>"
      ],
      "text/plain": [
       "   n_splits  forecast_len  incremental_len     wmape     smape     rmsse\n",
       "0         3            20               20  0.266317  0.218235  1.811515"
      ]
     },
     "execution_count": 8,
     "metadata": {},
     "output_type": "execute_result"
    }
   ],
   "source": [
    "bt.get_scores()"
   ]
  },
  {
   "cell_type": "markdown",
   "metadata": {},
   "source": [
    "## Prophet model object"
   ]
  },
  {
   "cell_type": "code",
   "execution_count": 9,
   "metadata": {
    "ExecuteTime": {
     "end_time": "2020-05-21T00:41:15.282504Z",
     "start_time": "2020-05-21T00:41:15.096407Z"
    }
   },
   "outputs": [],
   "source": [
    "from fbprophet import Prophet\n",
    "import inspect"
   ]
  },
  {
   "cell_type": "code",
   "execution_count": 10,
   "metadata": {
    "ExecuteTime": {
     "end_time": "2020-05-21T00:41:15.296284Z",
     "start_time": "2020-05-21T00:41:15.285396Z"
    }
   },
   "outputs": [],
   "source": [
    "def model_callback_prophet(model, **kwargs):\n",
    "    object_type = type(model)\n",
    "    new_instance = object_type(**kwargs)\n",
    "    \n",
    "    return new_instance\n",
    "\n",
    "def fit_callbacks_prophet(model, train_df, date_col, response_col, regressor_col):\n",
    "    \n",
    "    train_df = train_df.rename(columns={date_col: \"ds\", response_col: \"y\"})\n",
    "    if regressor_col is not None:\n",
    "        for regressor in regressor_col:\n",
    "            model.add_regressor(regressor) \n",
    "    model.fit(train_df)\n",
    "    \n",
    "    return \n",
    "\n",
    "def pred_callbacks_prophet(model, test_df, date_col, response_col, regressor_col):\n",
    "    test_df = test_df.rename(columns={date_col: \"ds\", response_col: \"y\"})\n",
    "    \n",
    "    predictions = model.predict(test_df)\n",
    "    predictions.rename(columns={'yhat': 'prediction', 'ds': date_col}, inplace=True)\n",
    "    predictions=predictions[[date_col, 'prediction']]\n",
    "\n",
    "    return predictions\n",
    "\n",
    "fit_predict_args = {\n",
    "    'response_col': 'claims',\n",
    "    'date_col': 'week',\n",
    "    'regressor_col': ['trend.unemploy', 'trend.filling', 'trend.job']\n",
    "}"
   ]
  },
  {
   "cell_type": "code",
   "execution_count": 11,
   "metadata": {
    "ExecuteTime": {
     "end_time": "2020-05-21T00:41:16.620601Z",
     "start_time": "2020-05-21T00:41:15.300514Z"
    }
   },
   "outputs": [],
   "source": [
    "mod = Prophet()"
   ]
  },
  {
   "cell_type": "markdown",
   "metadata": {},
   "source": [
    "Note: if some error pops out below (related to the pickle issue), it could be eliminated by setting `save_model=False` or upgrading your python to 3.7."
   ]
  },
  {
   "cell_type": "code",
   "execution_count": 12,
   "metadata": {
    "ExecuteTime": {
     "end_time": "2020-05-21T00:41:24.177741Z",
     "start_time": "2020-05-21T00:41:16.623103Z"
    }
   },
   "outputs": [
    {
     "name": "stderr",
     "output_type": "stream",
     "text": [
      "INFO:fbprophet:Disabling weekly seasonality. Run prophet with weekly_seasonality=True to override this.\n",
      "INFO:fbprophet:Disabling daily seasonality. Run prophet with daily_seasonality=True to override this.\n",
      "INFO:fbprophet:Disabling weekly seasonality. Run prophet with weekly_seasonality=True to override this.\n",
      "INFO:fbprophet:Disabling daily seasonality. Run prophet with daily_seasonality=True to override this.\n",
      "INFO:fbprophet:Disabling weekly seasonality. Run prophet with weekly_seasonality=True to override this.\n",
      "INFO:fbprophet:Disabling daily seasonality. Run prophet with daily_seasonality=True to override this.\n"
     ]
    }
   ],
   "source": [
    "bt.fit_score(\n",
    "    mod,\n",
    "    response_col='claims',\n",
    "    predicted_col='prediction',\n",
    "    fit_callback=fit_callbacks_prophet,\n",
    "    predict_callback=pred_callbacks_prophet,\n",
    "    model_callback=model_callback_prophet,\n",
    "    fit_args=fit_predict_args,\n",
    "    predict_args=fit_predict_args,\n",
    ")"
   ]
  },
  {
   "cell_type": "code",
   "execution_count": 13,
   "metadata": {
    "ExecuteTime": {
     "end_time": "2020-05-21T00:41:24.203016Z",
     "start_time": "2020-05-21T00:41:24.180445Z"
    }
   },
   "outputs": [
    {
     "data": {
      "text/html": [
       "<div>\n",
       "<style scoped>\n",
       "    .dataframe tbody tr th:only-of-type {\n",
       "        vertical-align: middle;\n",
       "    }\n",
       "\n",
       "    .dataframe tbody tr th {\n",
       "        vertical-align: top;\n",
       "    }\n",
       "\n",
       "    .dataframe thead th {\n",
       "        text-align: right;\n",
       "    }\n",
       "</style>\n",
       "<table border=\"1\" class=\"dataframe\">\n",
       "  <thead>\n",
       "    <tr style=\"text-align: right;\">\n",
       "      <th></th>\n",
       "      <th>steps</th>\n",
       "      <th>week</th>\n",
       "      <th>claims</th>\n",
       "      <th>prediction</th>\n",
       "      <th>part</th>\n",
       "      <th>split_key</th>\n",
       "    </tr>\n",
       "  </thead>\n",
       "  <tbody>\n",
       "    <tr>\n",
       "      <th>0</th>\n",
       "      <td>1</td>\n",
       "      <td>2017-05-07</td>\n",
       "      <td>215040</td>\n",
       "      <td>201359.637440</td>\n",
       "      <td>test</td>\n",
       "      <td>0</td>\n",
       "    </tr>\n",
       "    <tr>\n",
       "      <th>1</th>\n",
       "      <td>2</td>\n",
       "      <td>2017-05-14</td>\n",
       "      <td>206905</td>\n",
       "      <td>192141.755352</td>\n",
       "      <td>test</td>\n",
       "      <td>0</td>\n",
       "    </tr>\n",
       "    <tr>\n",
       "      <th>2</th>\n",
       "      <td>3</td>\n",
       "      <td>2017-05-21</td>\n",
       "      <td>210544</td>\n",
       "      <td>197247.881505</td>\n",
       "      <td>test</td>\n",
       "      <td>0</td>\n",
       "    </tr>\n",
       "    <tr>\n",
       "      <th>3</th>\n",
       "      <td>4</td>\n",
       "      <td>2017-05-28</td>\n",
       "      <td>232138</td>\n",
       "      <td>208456.090372</td>\n",
       "      <td>test</td>\n",
       "      <td>0</td>\n",
       "    </tr>\n",
       "    <tr>\n",
       "      <th>4</th>\n",
       "      <td>5</td>\n",
       "      <td>2017-06-04</td>\n",
       "      <td>212696</td>\n",
       "      <td>216694.353579</td>\n",
       "      <td>test</td>\n",
       "      <td>0</td>\n",
       "    </tr>\n",
       "  </tbody>\n",
       "</table>\n",
       "</div>"
      ],
      "text/plain": [
       "   steps       week  claims     prediction  part  split_key\n",
       "0      1 2017-05-07  215040  201359.637440  test          0\n",
       "1      2 2017-05-14  206905  192141.755352  test          0\n",
       "2      3 2017-05-21  210544  197247.881505  test          0\n",
       "3      4 2017-05-28  232138  208456.090372  test          0\n",
       "4      5 2017-06-04  212696  216694.353579  test          0"
      ]
     },
     "execution_count": 13,
     "metadata": {},
     "output_type": "execute_result"
    }
   ],
   "source": [
    "bt.get_predictions().head()"
   ]
  },
  {
   "cell_type": "code",
   "execution_count": 14,
   "metadata": {
    "ExecuteTime": {
     "end_time": "2020-05-21T00:41:24.219715Z",
     "start_time": "2020-05-21T00:41:24.205707Z"
    }
   },
   "outputs": [
    {
     "data": {
      "text/html": [
       "<div>\n",
       "<style scoped>\n",
       "    .dataframe tbody tr th:only-of-type {\n",
       "        vertical-align: middle;\n",
       "    }\n",
       "\n",
       "    .dataframe tbody tr th {\n",
       "        vertical-align: top;\n",
       "    }\n",
       "\n",
       "    .dataframe thead th {\n",
       "        text-align: right;\n",
       "    }\n",
       "</style>\n",
       "<table border=\"1\" class=\"dataframe\">\n",
       "  <thead>\n",
       "    <tr style=\"text-align: right;\">\n",
       "      <th></th>\n",
       "      <th>n_splits</th>\n",
       "      <th>forecast_len</th>\n",
       "      <th>incremental_len</th>\n",
       "      <th>wmape</th>\n",
       "      <th>smape</th>\n",
       "      <th>rmsse</th>\n",
       "    </tr>\n",
       "  </thead>\n",
       "  <tbody>\n",
       "    <tr>\n",
       "      <th>0</th>\n",
       "      <td>3</td>\n",
       "      <td>20</td>\n",
       "      <td>20</td>\n",
       "      <td>0.075781</td>\n",
       "      <td>0.07822</td>\n",
       "      <td>0.507137</td>\n",
       "    </tr>\n",
       "  </tbody>\n",
       "</table>\n",
       "</div>"
      ],
      "text/plain": [
       "   n_splits  forecast_len  incremental_len     wmape    smape     rmsse\n",
       "0         3            20               20  0.075781  0.07822  0.507137"
      ]
     },
     "execution_count": 14,
     "metadata": {},
     "output_type": "execute_result"
    }
   ],
   "source": [
    "bt.get_scores()"
   ]
  }
 ],
 "metadata": {
  "kernelspec": {
   "display_name": "orbit",
   "language": "python",
   "name": "orbit"
  },
  "language_info": {
   "codemirror_mode": {
    "name": "ipython",
    "version": 3
   },
   "file_extension": ".py",
   "mimetype": "text/x-python",
   "name": "python",
   "nbconvert_exporter": "python",
   "pygments_lexer": "ipython3",
   "version": "3.6.8"
  },
  "toc": {
   "base_numbering": 1,
   "nav_menu": {},
   "number_sections": true,
   "sideBar": true,
   "skip_h1_title": false,
   "title_cell": "Table of Contents",
   "title_sidebar": "Contents",
   "toc_cell": false,
   "toc_position": {
    "height": "calc(100% - 180px)",
    "left": "10px",
    "top": "150px",
    "width": "306.391px"
   },
   "toc_section_display": true,
   "toc_window_display": true
  }
 },
 "nbformat": 4,
 "nbformat_minor": 4
}
